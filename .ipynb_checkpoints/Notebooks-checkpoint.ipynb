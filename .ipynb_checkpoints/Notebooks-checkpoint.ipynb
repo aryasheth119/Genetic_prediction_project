{
 "cells": [
  {
   "cell_type": "code",
   "execution_count": 21,
   "id": "eec54f20",
   "metadata": {},
   "outputs": [],
   "source": [
    "import pandas as pd\n",
    "import numpy as np"
   ]
  },
  {
   "cell_type": "code",
   "execution_count": 22,
   "id": "75620f26",
   "metadata": {},
   "outputs": [],
   "source": [
    "file = pd.read_csv('gene_condition_source_id.csv')"
   ]
  },
  {
   "cell_type": "code",
   "execution_count": 23,
   "id": "724b661d",
   "metadata": {},
   "outputs": [
    {
     "data": {
      "text/html": [
       "<div>\n",
       "<style scoped>\n",
       "    .dataframe tbody tr th:only-of-type {\n",
       "        vertical-align: middle;\n",
       "    }\n",
       "\n",
       "    .dataframe tbody tr th {\n",
       "        vertical-align: top;\n",
       "    }\n",
       "\n",
       "    .dataframe thead th {\n",
       "        text-align: right;\n",
       "    }\n",
       "</style>\n",
       "<table border=\"1\" class=\"dataframe\">\n",
       "  <thead>\n",
       "    <tr style=\"text-align: right;\">\n",
       "      <th></th>\n",
       "      <th>GeneID</th>\n",
       "      <th>AssociatedGenes</th>\n",
       "      <th>RelatedGenes</th>\n",
       "      <th>ConceptID</th>\n",
       "      <th>DiseaseName</th>\n",
       "      <th>SourceName</th>\n",
       "      <th>SourceID</th>\n",
       "      <th>DiseaseMIM</th>\n",
       "      <th>LastUpdated</th>\n",
       "    </tr>\n",
       "  </thead>\n",
       "  <tbody>\n",
       "    <tr>\n",
       "      <th>0</th>\n",
       "      <td>144568</td>\n",
       "      <td>A2ML1</td>\n",
       "      <td>NaN</td>\n",
       "      <td>C1833692</td>\n",
       "      <td>Otitis media: susceptibility to</td>\n",
       "      <td>MONDO</td>\n",
       "      <td>MONDO:0008162</td>\n",
       "      <td>166760.0</td>\n",
       "      <td>Feb 16 2016</td>\n",
       "    </tr>\n",
       "    <tr>\n",
       "      <th>1</th>\n",
       "      <td>53947</td>\n",
       "      <td>A4GALT</td>\n",
       "      <td>NaN</td>\n",
       "      <td>C3549485</td>\n",
       "      <td>Blood group: P1PK system</td>\n",
       "      <td>NCBI curation</td>\n",
       "      <td>NaN</td>\n",
       "      <td>111400.0</td>\n",
       "      <td>Mar 10 2022</td>\n",
       "    </tr>\n",
       "    <tr>\n",
       "      <th>2</th>\n",
       "      <td>8086</td>\n",
       "      <td>AAAS</td>\n",
       "      <td>NaN</td>\n",
       "      <td>C0271742</td>\n",
       "      <td>Glucocorticoid deficiency with achalasia</td>\n",
       "      <td>NCBI curation</td>\n",
       "      <td>NaN</td>\n",
       "      <td>231550.0</td>\n",
       "      <td>Feb 16 2016</td>\n",
       "    </tr>\n",
       "    <tr>\n",
       "      <th>3</th>\n",
       "      <td>79719</td>\n",
       "      <td>AAGAB</td>\n",
       "      <td>NaN</td>\n",
       "      <td>CN031225</td>\n",
       "      <td>Palmoplantar keratoderma: punctate type 1A</td>\n",
       "      <td>MONDO</td>\n",
       "      <td>MONDO:0007858</td>\n",
       "      <td>148600.0</td>\n",
       "      <td>May 21 2021</td>\n",
       "    </tr>\n",
       "    <tr>\n",
       "      <th>4</th>\n",
       "      <td>16</td>\n",
       "      <td>AARS1</td>\n",
       "      <td>NaN</td>\n",
       "      <td>C2750090</td>\n",
       "      <td>Charcot-Marie-Tooth disease axonal type 2N</td>\n",
       "      <td>MONDO</td>\n",
       "      <td>MONDO:0013212</td>\n",
       "      <td>613287.0</td>\n",
       "      <td>Jan 21 2022</td>\n",
       "    </tr>\n",
       "    <tr>\n",
       "      <th>...</th>\n",
       "      <td>...</td>\n",
       "      <td>...</td>\n",
       "      <td>...</td>\n",
       "      <td>...</td>\n",
       "      <td>...</td>\n",
       "      <td>...</td>\n",
       "      <td>...</td>\n",
       "      <td>...</td>\n",
       "      <td>...</td>\n",
       "    </tr>\n",
       "    <tr>\n",
       "      <th>12305</th>\n",
       "      <td>130557</td>\n",
       "      <td>NaN</td>\n",
       "      <td>ZNF513</td>\n",
       "      <td>C0035334</td>\n",
       "      <td>Retinitis pigmentosa</td>\n",
       "      <td>OMIM phenotypic series</td>\n",
       "      <td>PS268000</td>\n",
       "      <td>268000.0</td>\n",
       "      <td>16. Feb 16</td>\n",
       "    </tr>\n",
       "    <tr>\n",
       "      <th>12306</th>\n",
       "      <td>130557</td>\n",
       "      <td>NaN</td>\n",
       "      <td>ZNF513</td>\n",
       "      <td>C0035334</td>\n",
       "      <td>Retinitis pigmentosa</td>\n",
       "      <td>MONDO</td>\n",
       "      <td>MONDO:0019200</td>\n",
       "      <td>268000.0</td>\n",
       "      <td>16. Feb 16</td>\n",
       "    </tr>\n",
       "    <tr>\n",
       "      <th>12307</th>\n",
       "      <td>22917</td>\n",
       "      <td>NaN</td>\n",
       "      <td>ZP1</td>\n",
       "      <td>CN238505</td>\n",
       "      <td>Inherited oocyte maturation defect</td>\n",
       "      <td>MONDO</td>\n",
       "      <td>MONDO:0014769</td>\n",
       "      <td>NaN</td>\n",
       "      <td>19. Apr 22</td>\n",
       "    </tr>\n",
       "    <tr>\n",
       "      <th>12308</th>\n",
       "      <td>7783</td>\n",
       "      <td>NaN</td>\n",
       "      <td>ZP2</td>\n",
       "      <td>CN238505</td>\n",
       "      <td>Inherited oocyte maturation defect</td>\n",
       "      <td>MONDO</td>\n",
       "      <td>MONDO:0014769</td>\n",
       "      <td>NaN</td>\n",
       "      <td>19. Apr 22</td>\n",
       "    </tr>\n",
       "    <tr>\n",
       "      <th>12309</th>\n",
       "      <td>7784</td>\n",
       "      <td>NaN</td>\n",
       "      <td>ZP3</td>\n",
       "      <td>CN238505</td>\n",
       "      <td>Inherited oocyte maturation defect</td>\n",
       "      <td>MONDO</td>\n",
       "      <td>MONDO:0014769</td>\n",
       "      <td>NaN</td>\n",
       "      <td>19. Apr 22</td>\n",
       "    </tr>\n",
       "  </tbody>\n",
       "</table>\n",
       "<p>12310 rows × 9 columns</p>\n",
       "</div>"
      ],
      "text/plain": [
       "       GeneID AssociatedGenes RelatedGenes ConceptID  \\\n",
       "0      144568           A2ML1          NaN  C1833692   \n",
       "1       53947          A4GALT          NaN  C3549485   \n",
       "2        8086            AAAS          NaN  C0271742   \n",
       "3       79719           AAGAB          NaN  CN031225   \n",
       "4          16           AARS1          NaN  C2750090   \n",
       "...       ...             ...          ...       ...   \n",
       "12305  130557             NaN       ZNF513  C0035334   \n",
       "12306  130557             NaN       ZNF513  C0035334   \n",
       "12307   22917             NaN          ZP1  CN238505   \n",
       "12308    7783             NaN          ZP2  CN238505   \n",
       "12309    7784             NaN          ZP3  CN238505   \n",
       "\n",
       "                                      DiseaseName              SourceName  \\\n",
       "0                 Otitis media: susceptibility to                   MONDO   \n",
       "1                        Blood group: P1PK system           NCBI curation   \n",
       "2        Glucocorticoid deficiency with achalasia           NCBI curation   \n",
       "3      Palmoplantar keratoderma: punctate type 1A                   MONDO   \n",
       "4      Charcot-Marie-Tooth disease axonal type 2N                   MONDO   \n",
       "...                                           ...                     ...   \n",
       "12305                        Retinitis pigmentosa  OMIM phenotypic series   \n",
       "12306                        Retinitis pigmentosa                   MONDO   \n",
       "12307          Inherited oocyte maturation defect                   MONDO   \n",
       "12308          Inherited oocyte maturation defect                   MONDO   \n",
       "12309          Inherited oocyte maturation defect                   MONDO   \n",
       "\n",
       "            SourceID  DiseaseMIM  LastUpdated  \n",
       "0      MONDO:0008162    166760.0  Feb 16 2016  \n",
       "1                NaN    111400.0  Mar 10 2022  \n",
       "2                NaN    231550.0  Feb 16 2016  \n",
       "3      MONDO:0007858    148600.0  May 21 2021  \n",
       "4      MONDO:0013212    613287.0  Jan 21 2022  \n",
       "...              ...         ...          ...  \n",
       "12305       PS268000    268000.0   16. Feb 16  \n",
       "12306  MONDO:0019200    268000.0   16. Feb 16  \n",
       "12307  MONDO:0014769         NaN   19. Apr 22  \n",
       "12308  MONDO:0014769         NaN   19. Apr 22  \n",
       "12309  MONDO:0014769         NaN   19. Apr 22  \n",
       "\n",
       "[12310 rows x 9 columns]"
      ]
     },
     "execution_count": 23,
     "metadata": {},
     "output_type": "execute_result"
    }
   ],
   "source": [
    "file"
   ]
  },
  {
   "cell_type": "code",
   "execution_count": 26,
   "id": "ef79a379",
   "metadata": {},
   "outputs": [],
   "source": [
    "# Group the data by Gene ID and count the number of unique disease names\n",
    "gene_counts = file.groupby('GeneID')['DiseaseName'].nunique()\n"
   ]
  },
  {
   "cell_type": "code",
   "execution_count": 27,
   "id": "355a0960",
   "metadata": {},
   "outputs": [
    {
     "name": "stdout",
     "output_type": "stream",
     "text": [
      "Gene ID with the maximum number of disease names: 1280\n"
     ]
    }
   ],
   "source": [
    "# Find the Gene ID with the maximum count of unique disease names\n",
    "max_gene_id = gene_counts.idxmax()\n",
    "\n",
    "print(\"Gene ID with the maximum number of disease names:\", max_gene_id)"
   ]
  },
  {
   "cell_type": "code",
   "execution_count": 28,
   "id": "96bc1e6c",
   "metadata": {},
   "outputs": [],
   "source": [
    "# Calculate the total number of unique gene IDs\n",
    "total_gene_ids = len(file['GeneID'].unique())"
   ]
  },
  {
   "cell_type": "code",
   "execution_count": 29,
   "id": "99f45c00",
   "metadata": {},
   "outputs": [],
   "source": [
    "# Specify the gene ID you want to calculate the probability for\n",
    "gene_id = 1280"
   ]
  },
  {
   "cell_type": "code",
   "execution_count": 30,
   "id": "00286e16",
   "metadata": {},
   "outputs": [],
   "source": [
    "# Count the number of occurrences of the specific gene ID\n",
    "gene_id_count = len(file[file['GeneID'] == gene_id])"
   ]
  },
  {
   "cell_type": "code",
   "execution_count": 31,
   "id": "18d77e06",
   "metadata": {},
   "outputs": [
    {
     "name": "stdout",
     "output_type": "stream",
     "text": [
      "Probability of getting the gene ID 1280 out of all gene IDs: 0.007139942880456956\n"
     ]
    }
   ],
   "source": [
    "# Calculate the probability #estimated probability\n",
    "probability = gene_id_count / total_gene_ids\n",
    "\n",
    "print(\"Probability of getting the gene ID\", gene_id, \"out of all gene IDs:\", probability)"
   ]
  },
  {
   "cell_type": "code",
   "execution_count": 32,
   "id": "1303435b",
   "metadata": {},
   "outputs": [
    {
     "name": "stdout",
     "output_type": "stream",
     "text": [
      "Disease names with associated genes and related genes:\n"
     ]
    }
   ],
   "source": [
    "filtered_data = file.dropna(subset=['AssociatedGenes', 'RelatedGenes'])\n",
    "\n",
    "# Get the disease names for rows with non-null values in both 'AssociatedGenes' and 'RelatedGenes' columns\n",
    "disease_names = filtered_data['DiseaseName'].unique()\n",
    "\n",
    "# Print the disease names that have associated genes and related genes\n",
    "print(\"Disease names with associated genes and related genes:\")\n",
    "for disease_name in disease_names:\n",
    "    print(disease_name)"
   ]
  },
  {
   "cell_type": "code",
   "execution_count": 36,
   "id": "fc577395",
   "metadata": {},
   "outputs": [
    {
     "name": "stdout",
     "output_type": "stream",
     "text": [
      "Probability of getting a disease with associated genes: 0.6480909829406987\n",
      "Probability of getting a disease with related genes: 0.3519090170593014\n"
     ]
    }
   ],
   "source": [
    "# Calculate the total number of diseases\n",
    "total_diseases = len(file)\n",
    "\n",
    "# Filter the dataset for rows with non-null values in 'AssociatedGenes' column\n",
    "associated_genes_data = file.dropna(subset=['AssociatedGenes'])\n",
    "\n",
    "# Calculate the number of diseases with associated genes\n",
    "diseases_with_associated_genes = len(associated_genes_data)\n",
    "\n",
    "# Filter the dataset for rows with non-null values in 'RelatedGenes' column\n",
    "related_genes_data = file.dropna(subset=['RelatedGenes'])\n",
    "\n",
    "# Calculate the number of diseases with related genes\n",
    "diseases_with_related_genes = len(related_genes_data)\n",
    "\n",
    "# Calculate the probabilities\n",
    "probability_associated_genes = diseases_with_associated_genes / total_diseases\n",
    "probability_related_genes = diseases_with_related_genes / total_diseases\n",
    "\n",
    "# Print the probabilities\n",
    "print(\"Probability of getting a disease with associated genes:\", probability_associated_genes)\n",
    "print(\"Probability of getting a disease with related genes:\", probability_related_genes)"
   ]
  },
  {
   "cell_type": "code",
   "execution_count": 37,
   "id": "30a3b291",
   "metadata": {},
   "outputs": [
    {
     "name": "stdout",
     "output_type": "stream",
     "text": [
      "Associated Genes for Cardiomyopathy:\n",
      "\n",
      "Related Genes for Cardiomyopathy:\n",
      "ABCC9\n",
      "ACTC1\n",
      "ACTN2\n",
      "ANKRD1\n",
      "BAG3\n",
      "CAV3\n",
      "CRYAB\n",
      "CSRP3\n",
      "DES\n",
      "DSC2\n",
      "DSG2\n",
      "DSP\n",
      "EYA4\n",
      "FKTN\n",
      "JPH2\n",
      "JUP\n",
      "LAMA4\n",
      "LDB3\n",
      "LMNA\n",
      "MYBPC3\n",
      "MYH6\n",
      "MYH7\n",
      "MYL2\n",
      "MYL3\n",
      "MYLK2\n",
      "MYOZ2\n",
      "NEXN\n",
      "PKP2\n",
      "PLN\n",
      "PRKAG2\n",
      "PSEN1\n",
      "PSEN2\n",
      "RBM20\n",
      "SCN5A\n",
      "SDHA\n",
      "SGCD\n",
      "TAFAZZIN\n",
      "TCAP\n",
      "TGFB3\n",
      "TMEM43\n",
      "TMPO\n",
      "TNNC1\n",
      "TNNI3\n",
      "TNNT2\n",
      "TPM1\n",
      "TTN\n",
      "VCL\n"
     ]
    }
   ],
   "source": [
    "# Filter the dataset for rows with 'Cardiomyopathy' in the 'DiseaseName' column\n",
    "filtered_data = file[file['DiseaseName'] == 'Cardiomyopathy']\n",
    "\n",
    "# Get the associated genes and related genes for Cardiomyopathy\n",
    "associated_genes = filtered_data['AssociatedGenes'].dropna().unique().tolist()\n",
    "related_genes = filtered_data['RelatedGenes'].dropna().unique().tolist()\n",
    "\n",
    "# Print the associated genes and related genes for Cardiomyopathy\n",
    "print(\"Associated Genes for Cardiomyopathy:\")\n",
    "for gene in associated_genes:\n",
    "    print(gene)\n",
    "\n",
    "print(\"\\nRelated Genes for Cardiomyopathy:\")\n",
    "for gene in related_genes:\n",
    "    print(gene)"
   ]
  },
  {
   "cell_type": "code",
   "execution_count": null,
   "id": "83d9f970",
   "metadata": {},
   "outputs": [],
   "source": []
  }
 ],
 "metadata": {
  "kernelspec": {
   "display_name": "Python 3 (ipykernel)",
   "language": "python",
   "name": "python3"
  },
  "language_info": {
   "codemirror_mode": {
    "name": "ipython",
    "version": 3
   },
   "file_extension": ".py",
   "mimetype": "text/x-python",
   "name": "python",
   "nbconvert_exporter": "python",
   "pygments_lexer": "ipython3",
   "version": "3.10.9"
  }
 },
 "nbformat": 4,
 "nbformat_minor": 5
}
