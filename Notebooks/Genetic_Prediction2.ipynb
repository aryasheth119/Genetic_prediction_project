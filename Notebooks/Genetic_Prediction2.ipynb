{
 "cells": [
  {
   "cell_type": "code",
   "execution_count": 21,
   "id": "b4f4d50a",
   "metadata": {},
   "outputs": [],
   "source": [
    "import pandas as pd\n",
    "import numpy as np"
   ]
  },
  {
   "cell_type": "code",
   "execution_count": 22,
   "id": "514cbcc9",
   "metadata": {},
   "outputs": [],
   "source": [
    "file = pd.read_csv('gene_condition_source_id.csv')"
   ]
  },
  {
   "cell_type": "code",
   "execution_count": 23,
   "id": "4f65e9cc",
   "metadata": {},
   "outputs": [
    {
     "data": {
      "text/html": [
       "<div>\n",
       "<style scoped>\n",
       "    .dataframe tbody tr th:only-of-type {\n",
       "        vertical-align: middle;\n",
       "    }\n",
       "\n",
       "    .dataframe tbody tr th {\n",
       "        vertical-align: top;\n",
       "    }\n",
       "\n",
       "    .dataframe thead th {\n",
       "        text-align: right;\n",
       "    }\n",
       "</style>\n",
       "<table border=\"1\" class=\"dataframe\">\n",
       "  <thead>\n",
       "    <tr style=\"text-align: right;\">\n",
       "      <th></th>\n",
       "      <th>GeneID</th>\n",
       "      <th>AssociatedGenes</th>\n",
       "      <th>RelatedGenes</th>\n",
       "      <th>ConceptID</th>\n",
       "      <th>DiseaseName</th>\n",
       "      <th>SourceName</th>\n",
       "      <th>SourceID</th>\n",
       "      <th>DiseaseMIM</th>\n",
       "      <th>LastUpdated</th>\n",
       "    </tr>\n",
       "  </thead>\n",
       "  <tbody>\n",
       "    <tr>\n",
       "      <th>0</th>\n",
       "      <td>144568</td>\n",
       "      <td>A2ML1</td>\n",
       "      <td>NaN</td>\n",
       "      <td>C1833692</td>\n",
       "      <td>Otitis media: susceptibility to</td>\n",
       "      <td>MONDO</td>\n",
       "      <td>MONDO:0008162</td>\n",
       "      <td>166760.0</td>\n",
       "      <td>Feb 16 2016</td>\n",
       "    </tr>\n",
       "    <tr>\n",
       "      <th>1</th>\n",
       "      <td>53947</td>\n",
       "      <td>A4GALT</td>\n",
       "      <td>NaN</td>\n",
       "      <td>C3549485</td>\n",
       "      <td>Blood group: P1PK system</td>\n",
       "      <td>NCBI curation</td>\n",
       "      <td>NaN</td>\n",
       "      <td>111400.0</td>\n",
       "      <td>Mar 10 2022</td>\n",
       "    </tr>\n",
       "    <tr>\n",
       "      <th>2</th>\n",
       "      <td>8086</td>\n",
       "      <td>AAAS</td>\n",
       "      <td>NaN</td>\n",
       "      <td>C0271742</td>\n",
       "      <td>Glucocorticoid deficiency with achalasia</td>\n",
       "      <td>NCBI curation</td>\n",
       "      <td>NaN</td>\n",
       "      <td>231550.0</td>\n",
       "      <td>Feb 16 2016</td>\n",
       "    </tr>\n",
       "    <tr>\n",
       "      <th>3</th>\n",
       "      <td>79719</td>\n",
       "      <td>AAGAB</td>\n",
       "      <td>NaN</td>\n",
       "      <td>CN031225</td>\n",
       "      <td>Palmoplantar keratoderma: punctate type 1A</td>\n",
       "      <td>MONDO</td>\n",
       "      <td>MONDO:0007858</td>\n",
       "      <td>148600.0</td>\n",
       "      <td>May 21 2021</td>\n",
       "    </tr>\n",
       "    <tr>\n",
       "      <th>4</th>\n",
       "      <td>16</td>\n",
       "      <td>AARS1</td>\n",
       "      <td>NaN</td>\n",
       "      <td>C2750090</td>\n",
       "      <td>Charcot-Marie-Tooth disease axonal type 2N</td>\n",
       "      <td>MONDO</td>\n",
       "      <td>MONDO:0013212</td>\n",
       "      <td>613287.0</td>\n",
       "      <td>Jan 21 2022</td>\n",
       "    </tr>\n",
       "    <tr>\n",
       "      <th>...</th>\n",
       "      <td>...</td>\n",
       "      <td>...</td>\n",
       "      <td>...</td>\n",
       "      <td>...</td>\n",
       "      <td>...</td>\n",
       "      <td>...</td>\n",
       "      <td>...</td>\n",
       "      <td>...</td>\n",
       "      <td>...</td>\n",
       "    </tr>\n",
       "    <tr>\n",
       "      <th>12305</th>\n",
       "      <td>130557</td>\n",
       "      <td>NaN</td>\n",
       "      <td>ZNF513</td>\n",
       "      <td>C0035334</td>\n",
       "      <td>Retinitis pigmentosa</td>\n",
       "      <td>OMIM phenotypic series</td>\n",
       "      <td>PS268000</td>\n",
       "      <td>268000.0</td>\n",
       "      <td>16. Feb 16</td>\n",
       "    </tr>\n",
       "    <tr>\n",
       "      <th>12306</th>\n",
       "      <td>130557</td>\n",
       "      <td>NaN</td>\n",
       "      <td>ZNF513</td>\n",
       "      <td>C0035334</td>\n",
       "      <td>Retinitis pigmentosa</td>\n",
       "      <td>MONDO</td>\n",
       "      <td>MONDO:0019200</td>\n",
       "      <td>268000.0</td>\n",
       "      <td>16. Feb 16</td>\n",
       "    </tr>\n",
       "    <tr>\n",
       "      <th>12307</th>\n",
       "      <td>22917</td>\n",
       "      <td>NaN</td>\n",
       "      <td>ZP1</td>\n",
       "      <td>CN238505</td>\n",
       "      <td>Inherited oocyte maturation defect</td>\n",
       "      <td>MONDO</td>\n",
       "      <td>MONDO:0014769</td>\n",
       "      <td>NaN</td>\n",
       "      <td>19. Apr 22</td>\n",
       "    </tr>\n",
       "    <tr>\n",
       "      <th>12308</th>\n",
       "      <td>7783</td>\n",
       "      <td>NaN</td>\n",
       "      <td>ZP2</td>\n",
       "      <td>CN238505</td>\n",
       "      <td>Inherited oocyte maturation defect</td>\n",
       "      <td>MONDO</td>\n",
       "      <td>MONDO:0014769</td>\n",
       "      <td>NaN</td>\n",
       "      <td>19. Apr 22</td>\n",
       "    </tr>\n",
       "    <tr>\n",
       "      <th>12309</th>\n",
       "      <td>7784</td>\n",
       "      <td>NaN</td>\n",
       "      <td>ZP3</td>\n",
       "      <td>CN238505</td>\n",
       "      <td>Inherited oocyte maturation defect</td>\n",
       "      <td>MONDO</td>\n",
       "      <td>MONDO:0014769</td>\n",
       "      <td>NaN</td>\n",
       "      <td>19. Apr 22</td>\n",
       "    </tr>\n",
       "  </tbody>\n",
       "</table>\n",
       "<p>12310 rows × 9 columns</p>\n",
       "</div>"
      ],
      "text/plain": [
       "       GeneID AssociatedGenes RelatedGenes ConceptID  \\\n",
       "0      144568           A2ML1          NaN  C1833692   \n",
       "1       53947          A4GALT          NaN  C3549485   \n",
       "2        8086            AAAS          NaN  C0271742   \n",
       "3       79719           AAGAB          NaN  CN031225   \n",
       "4          16           AARS1          NaN  C2750090   \n",
       "...       ...             ...          ...       ...   \n",
       "12305  130557             NaN       ZNF513  C0035334   \n",
       "12306  130557             NaN       ZNF513  C0035334   \n",
       "12307   22917             NaN          ZP1  CN238505   \n",
       "12308    7783             NaN          ZP2  CN238505   \n",
       "12309    7784             NaN          ZP3  CN238505   \n",
       "\n",
       "                                      DiseaseName              SourceName  \\\n",
       "0                 Otitis media: susceptibility to                   MONDO   \n",
       "1                        Blood group: P1PK system           NCBI curation   \n",
       "2        Glucocorticoid deficiency with achalasia           NCBI curation   \n",
       "3      Palmoplantar keratoderma: punctate type 1A                   MONDO   \n",
       "4      Charcot-Marie-Tooth disease axonal type 2N                   MONDO   \n",
       "...                                           ...                     ...   \n",
       "12305                        Retinitis pigmentosa  OMIM phenotypic series   \n",
       "12306                        Retinitis pigmentosa                   MONDO   \n",
       "12307          Inherited oocyte maturation defect                   MONDO   \n",
       "12308          Inherited oocyte maturation defect                   MONDO   \n",
       "12309          Inherited oocyte maturation defect                   MONDO   \n",
       "\n",
       "            SourceID  DiseaseMIM  LastUpdated  \n",
       "0      MONDO:0008162    166760.0  Feb 16 2016  \n",
       "1                NaN    111400.0  Mar 10 2022  \n",
       "2                NaN    231550.0  Feb 16 2016  \n",
       "3      MONDO:0007858    148600.0  May 21 2021  \n",
       "4      MONDO:0013212    613287.0  Jan 21 2022  \n",
       "...              ...         ...          ...  \n",
       "12305       PS268000    268000.0   16. Feb 16  \n",
       "12306  MONDO:0019200    268000.0   16. Feb 16  \n",
       "12307  MONDO:0014769         NaN   19. Apr 22  \n",
       "12308  MONDO:0014769         NaN   19. Apr 22  \n",
       "12309  MONDO:0014769         NaN   19. Apr 22  \n",
       "\n",
       "[12310 rows x 9 columns]"
      ]
     },
     "execution_count": 23,
     "metadata": {},
     "output_type": "execute_result"
    }
   ],
   "source": [
    "file"
   ]
  },
  {
   "cell_type": "code",
   "execution_count": 26,
   "id": "069e8b60",
   "metadata": {},
   "outputs": [],
   "source": [
    "# Group the data by Gene ID and count the number of unique disease names\n",
    "gene_counts = file.groupby('GeneID')['DiseaseName'].nunique()\n"
   ]
  },
  {
   "cell_type": "code",
   "execution_count": 27,
   "id": "c00b46b4",
   "metadata": {},
   "outputs": [
    {
     "name": "stdout",
     "output_type": "stream",
     "text": [
      "Gene ID with the maximum number of disease names: 1280\n"
     ]
    }
   ],
   "source": [
    "# Find the Gene ID with the maximum count of unique disease names\n",
    "max_gene_id = gene_counts.idxmax()\n",
    "\n",
    "print(\"Gene ID with the maximum number of disease names:\", max_gene_id)"
   ]
  },
  {
   "cell_type": "code",
   "execution_count": 28,
   "id": "208f4f31",
   "metadata": {},
   "outputs": [],
   "source": [
    "# Calculate the total number of unique gene IDs\n",
    "total_gene_ids = len(file['GeneID'].unique())"
   ]
  },
  {
   "cell_type": "code",
   "execution_count": 29,
   "id": "cb03ca30",
   "metadata": {},
   "outputs": [],
   "source": [
    "# Specify the gene ID you want to calculate the probability for\n",
    "gene_id = 1280"
   ]
  },
  {
   "cell_type": "code",
   "execution_count": 30,
   "id": "90c62cc4",
   "metadata": {},
   "outputs": [],
   "source": [
    "# Count the number of occurrences of the specific gene ID\n",
    "gene_id_count = len(file[file['GeneID'] == gene_id])"
   ]
  },
  {
   "cell_type": "code",
   "execution_count": 31,
   "id": "cfb41980",
   "metadata": {},
   "outputs": [
    {
     "name": "stdout",
     "output_type": "stream",
     "text": [
      "Probability of getting the gene ID 1280 out of all gene IDs: 0.007139942880456956\n"
     ]
    }
   ],
   "source": [
    "# Calculate the probability #estimated probability\n",
    "probability = gene_id_count / total_gene_ids\n",
    "\n",
    "print(\"Probability of getting the gene ID\", gene_id, \"out of all gene IDs:\", probability)"
   ]
  },
  {
   "cell_type": "code",
   "execution_count": null,
   "id": "57a77192",
   "metadata": {},
   "outputs": [],
   "source": []
  }
 ],
 "metadata": {
  "kernelspec": {
   "display_name": "Python 3 (ipykernel)",
   "language": "python",
   "name": "python3"
  },
  "language_info": {
   "codemirror_mode": {
    "name": "ipython",
    "version": 3
   },
   "file_extension": ".py",
   "mimetype": "text/x-python",
   "name": "python",
   "nbconvert_exporter": "python",
   "pygments_lexer": "ipython3",
   "version": "3.10.9"
  }
 },
 "nbformat": 4,
 "nbformat_minor": 5
}
