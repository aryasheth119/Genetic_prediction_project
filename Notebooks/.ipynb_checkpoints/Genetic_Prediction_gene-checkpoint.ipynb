{
 "cells": [
  {
   "cell_type": "code",
   "execution_count": 1,
   "id": "b4f4d50a",
   "metadata": {},
   "outputs": [],
   "source": [
    "import pandas as pd\n",
    "import numpy as np\n",
    "import seaborn as sns\n",
    "from matplotlib import pyplot as plt "
   ]
  },
  {
   "cell_type": "markdown",
   "id": "ec96e4eb",
   "metadata": {},
   "source": [
    "The file was downloaded from National Institute of Health, ClinVar, which is a freely accessible, public archive of reports of the relationships among human variations and phenotypes, with supporting evidence. ClinVar facilitates access to and communication about the relationships asserted between human variation and observed health status, and the history of that interpretation. "
   ]
  },
  {
   "cell_type": "markdown",
   "id": "28860897",
   "metadata": {},
   "source": [
    "Reading the file"
   ]
  },
  {
   "cell_type": "code",
   "execution_count": 2,
   "id": "514cbcc9",
   "metadata": {},
   "outputs": [],
   "source": [
    "file = pd.read_csv('../Data/raw/gene_condition_source_id.csv')"
   ]
  },
  {
   "cell_type": "code",
   "execution_count": 3,
   "id": "4f65e9cc",
   "metadata": {
    "scrolled": true
   },
   "outputs": [
    {
     "data": {
      "text/html": [
       "<div>\n",
       "<style scoped>\n",
       "    .dataframe tbody tr th:only-of-type {\n",
       "        vertical-align: middle;\n",
       "    }\n",
       "\n",
       "    .dataframe tbody tr th {\n",
       "        vertical-align: top;\n",
       "    }\n",
       "\n",
       "    .dataframe thead th {\n",
       "        text-align: right;\n",
       "    }\n",
       "</style>\n",
       "<table border=\"1\" class=\"dataframe\">\n",
       "  <thead>\n",
       "    <tr style=\"text-align: right;\">\n",
       "      <th></th>\n",
       "      <th>GeneID</th>\n",
       "      <th>AssociatedGenes</th>\n",
       "      <th>RelatedGenes</th>\n",
       "      <th>ConceptID</th>\n",
       "      <th>DiseaseName</th>\n",
       "      <th>SourceName</th>\n",
       "      <th>SourceID</th>\n",
       "      <th>DiseaseMIM</th>\n",
       "      <th>LastUpdated</th>\n",
       "    </tr>\n",
       "  </thead>\n",
       "  <tbody>\n",
       "    <tr>\n",
       "      <th>0</th>\n",
       "      <td>144568</td>\n",
       "      <td>A2ML1</td>\n",
       "      <td>NaN</td>\n",
       "      <td>C1833692</td>\n",
       "      <td>Otitis media: susceptibility to</td>\n",
       "      <td>MONDO</td>\n",
       "      <td>MONDO:0008162</td>\n",
       "      <td>166760.0</td>\n",
       "      <td>Feb 16 2016</td>\n",
       "    </tr>\n",
       "    <tr>\n",
       "      <th>1</th>\n",
       "      <td>53947</td>\n",
       "      <td>A4GALT</td>\n",
       "      <td>NaN</td>\n",
       "      <td>C3549485</td>\n",
       "      <td>Blood group: P1PK system</td>\n",
       "      <td>NCBI curation</td>\n",
       "      <td>NaN</td>\n",
       "      <td>111400.0</td>\n",
       "      <td>Mar 10 2022</td>\n",
       "    </tr>\n",
       "    <tr>\n",
       "      <th>2</th>\n",
       "      <td>8086</td>\n",
       "      <td>AAAS</td>\n",
       "      <td>NaN</td>\n",
       "      <td>C0271742</td>\n",
       "      <td>Glucocorticoid deficiency with achalasia</td>\n",
       "      <td>NCBI curation</td>\n",
       "      <td>NaN</td>\n",
       "      <td>231550.0</td>\n",
       "      <td>Feb 16 2016</td>\n",
       "    </tr>\n",
       "    <tr>\n",
       "      <th>3</th>\n",
       "      <td>79719</td>\n",
       "      <td>AAGAB</td>\n",
       "      <td>NaN</td>\n",
       "      <td>CN031225</td>\n",
       "      <td>Palmoplantar keratoderma: punctate type 1A</td>\n",
       "      <td>MONDO</td>\n",
       "      <td>MONDO:0007858</td>\n",
       "      <td>148600.0</td>\n",
       "      <td>May 21 2021</td>\n",
       "    </tr>\n",
       "    <tr>\n",
       "      <th>4</th>\n",
       "      <td>16</td>\n",
       "      <td>AARS1</td>\n",
       "      <td>NaN</td>\n",
       "      <td>C2750090</td>\n",
       "      <td>Charcot-Marie-Tooth disease axonal type 2N</td>\n",
       "      <td>MONDO</td>\n",
       "      <td>MONDO:0013212</td>\n",
       "      <td>613287.0</td>\n",
       "      <td>Jan 21 2022</td>\n",
       "    </tr>\n",
       "    <tr>\n",
       "      <th>...</th>\n",
       "      <td>...</td>\n",
       "      <td>...</td>\n",
       "      <td>...</td>\n",
       "      <td>...</td>\n",
       "      <td>...</td>\n",
       "      <td>...</td>\n",
       "      <td>...</td>\n",
       "      <td>...</td>\n",
       "      <td>...</td>\n",
       "    </tr>\n",
       "    <tr>\n",
       "      <th>12305</th>\n",
       "      <td>130557</td>\n",
       "      <td>NaN</td>\n",
       "      <td>ZNF513</td>\n",
       "      <td>C0035334</td>\n",
       "      <td>Retinitis pigmentosa</td>\n",
       "      <td>OMIM phenotypic series</td>\n",
       "      <td>PS268000</td>\n",
       "      <td>268000.0</td>\n",
       "      <td>16. Feb 16</td>\n",
       "    </tr>\n",
       "    <tr>\n",
       "      <th>12306</th>\n",
       "      <td>130557</td>\n",
       "      <td>NaN</td>\n",
       "      <td>ZNF513</td>\n",
       "      <td>C0035334</td>\n",
       "      <td>Retinitis pigmentosa</td>\n",
       "      <td>MONDO</td>\n",
       "      <td>MONDO:0019200</td>\n",
       "      <td>268000.0</td>\n",
       "      <td>16. Feb 16</td>\n",
       "    </tr>\n",
       "    <tr>\n",
       "      <th>12307</th>\n",
       "      <td>22917</td>\n",
       "      <td>NaN</td>\n",
       "      <td>ZP1</td>\n",
       "      <td>CN238505</td>\n",
       "      <td>Inherited oocyte maturation defect</td>\n",
       "      <td>MONDO</td>\n",
       "      <td>MONDO:0014769</td>\n",
       "      <td>NaN</td>\n",
       "      <td>19. Apr 22</td>\n",
       "    </tr>\n",
       "    <tr>\n",
       "      <th>12308</th>\n",
       "      <td>7783</td>\n",
       "      <td>NaN</td>\n",
       "      <td>ZP2</td>\n",
       "      <td>CN238505</td>\n",
       "      <td>Inherited oocyte maturation defect</td>\n",
       "      <td>MONDO</td>\n",
       "      <td>MONDO:0014769</td>\n",
       "      <td>NaN</td>\n",
       "      <td>19. Apr 22</td>\n",
       "    </tr>\n",
       "    <tr>\n",
       "      <th>12309</th>\n",
       "      <td>7784</td>\n",
       "      <td>NaN</td>\n",
       "      <td>ZP3</td>\n",
       "      <td>CN238505</td>\n",
       "      <td>Inherited oocyte maturation defect</td>\n",
       "      <td>MONDO</td>\n",
       "      <td>MONDO:0014769</td>\n",
       "      <td>NaN</td>\n",
       "      <td>19. Apr 22</td>\n",
       "    </tr>\n",
       "  </tbody>\n",
       "</table>\n",
       "<p>12310 rows × 9 columns</p>\n",
       "</div>"
      ],
      "text/plain": [
       "       GeneID AssociatedGenes RelatedGenes ConceptID  \\\n",
       "0      144568           A2ML1          NaN  C1833692   \n",
       "1       53947          A4GALT          NaN  C3549485   \n",
       "2        8086            AAAS          NaN  C0271742   \n",
       "3       79719           AAGAB          NaN  CN031225   \n",
       "4          16           AARS1          NaN  C2750090   \n",
       "...       ...             ...          ...       ...   \n",
       "12305  130557             NaN       ZNF513  C0035334   \n",
       "12306  130557             NaN       ZNF513  C0035334   \n",
       "12307   22917             NaN          ZP1  CN238505   \n",
       "12308    7783             NaN          ZP2  CN238505   \n",
       "12309    7784             NaN          ZP3  CN238505   \n",
       "\n",
       "                                      DiseaseName              SourceName  \\\n",
       "0                 Otitis media: susceptibility to                   MONDO   \n",
       "1                        Blood group: P1PK system           NCBI curation   \n",
       "2        Glucocorticoid deficiency with achalasia           NCBI curation   \n",
       "3      Palmoplantar keratoderma: punctate type 1A                   MONDO   \n",
       "4      Charcot-Marie-Tooth disease axonal type 2N                   MONDO   \n",
       "...                                           ...                     ...   \n",
       "12305                        Retinitis pigmentosa  OMIM phenotypic series   \n",
       "12306                        Retinitis pigmentosa                   MONDO   \n",
       "12307          Inherited oocyte maturation defect                   MONDO   \n",
       "12308          Inherited oocyte maturation defect                   MONDO   \n",
       "12309          Inherited oocyte maturation defect                   MONDO   \n",
       "\n",
       "            SourceID  DiseaseMIM  LastUpdated  \n",
       "0      MONDO:0008162    166760.0  Feb 16 2016  \n",
       "1                NaN    111400.0  Mar 10 2022  \n",
       "2                NaN    231550.0  Feb 16 2016  \n",
       "3      MONDO:0007858    148600.0  May 21 2021  \n",
       "4      MONDO:0013212    613287.0  Jan 21 2022  \n",
       "...              ...         ...          ...  \n",
       "12305       PS268000    268000.0   16. Feb 16  \n",
       "12306  MONDO:0019200    268000.0   16. Feb 16  \n",
       "12307  MONDO:0014769         NaN   19. Apr 22  \n",
       "12308  MONDO:0014769         NaN   19. Apr 22  \n",
       "12309  MONDO:0014769         NaN   19. Apr 22  \n",
       "\n",
       "[12310 rows x 9 columns]"
      ]
     },
     "execution_count": 3,
     "metadata": {},
     "output_type": "execute_result"
    }
   ],
   "source": [
    "file"
   ]
  },
  {
   "cell_type": "markdown",
   "id": "bff3cf42",
   "metadata": {},
   "source": [
    "Grouping the total genes by GeneID to get an overall idea of number of genes I will be dealing with in this project"
   ]
  },
  {
   "cell_type": "code",
   "execution_count": 4,
   "id": "069e8b60",
   "metadata": {},
   "outputs": [],
   "source": [
    "#Grouping the total genes by GeneID to get an overall idea of number of genes I will be dealing with in this project# Group the data by Gene ID and count the number of unique disease names\n",
    "gene_counts = file.groupby('GeneID')['DiseaseName'].nunique()\n"
   ]
  },
  {
   "cell_type": "markdown",
   "id": "b17d1dff",
   "metadata": {},
   "source": [
    "Here I want to find out which gene from the dataset is responsible for causing most diseases"
   ]
  },
  {
   "cell_type": "code",
   "execution_count": 5,
   "id": "c00b46b4",
   "metadata": {
    "scrolled": true
   },
   "outputs": [
    {
     "name": "stdout",
     "output_type": "stream",
     "text": [
      "Gene ID with the maximum number of disease names: 1280\n"
     ]
    }
   ],
   "source": [
    "# Find the Gene ID with the maximum count of unique disease names\n",
    "max_gene_id = gene_counts.idxmax()\n",
    "\n",
    "print(\"Gene ID with the maximum number of disease names:\", max_gene_id)"
   ]
  },
  {
   "cell_type": "markdown",
   "id": "35a15b59",
   "metadata": {},
   "source": [
    "According to our previous findings, the Gene ID causing the maximum number of diseases is 1280, based on that, I wanted to calculate the probability of getting a defect on the gene ID 1280 out of all gene IDs which will lead to causing a disease or disorder"
   ]
  },
  {
   "cell_type": "code",
   "execution_count": null,
   "id": "208f4f31",
   "metadata": {},
   "outputs": [],
   "source": [
    "# Calculate the total number of unique gene IDs\n",
    "total_gene_ids = len(file['GeneID'].unique())"
   ]
  },
  {
   "cell_type": "code",
   "execution_count": null,
   "id": "cb03ca30",
   "metadata": {},
   "outputs": [],
   "source": [
    "# Specify the gene ID you want to calculate the probability for\n",
    "gene_id = 1280"
   ]
  },
  {
   "cell_type": "code",
   "execution_count": null,
   "id": "90c62cc4",
   "metadata": {},
   "outputs": [],
   "source": [
    "# Count the number of occurrences of the specific gene ID\n",
    "gene_id_count = len(file[file['GeneID'] == gene_id])"
   ]
  },
  {
   "cell_type": "code",
   "execution_count": null,
   "id": "cfb41980",
   "metadata": {
    "scrolled": true
   },
   "outputs": [],
   "source": [
    "# Calculate the probability #estimated probability\n",
    "probability = gene_id_count / total_gene_ids\n",
    "\n",
    "print(\"Probability of getting the gene ID\", gene_id, \"out of all gene IDs:\", probability)"
   ]
  },
  {
   "cell_type": "markdown",
   "id": "2061b8b4",
   "metadata": {},
   "source": [
    "After calculating the probability of getting a defect in the Gene ID responsible for maximum number of disease, next is to calculate Probability of getting a disease with defect on associated as well as related genes "
   ]
  },
  {
   "cell_type": "code",
   "execution_count": null,
   "id": "096eeddb",
   "metadata": {},
   "outputs": [],
   "source": [
    "# Calculate the total number of diseases\n",
    "total_diseases = len(file)\n",
    "\n",
    "# Filter the dataset for rows with non-null values in 'AssociatedGenes' column\n",
    "associated_genes_data = file.dropna(subset=['AssociatedGenes'])\n",
    "\n",
    "# Calculate the number of diseases with associated genes\n",
    "diseases_with_associated_genes = len(associated_genes_data)\n",
    "\n",
    "# Filter the dataset for rows with non-null values in 'RelatedGenes' column\n",
    "related_genes_data = file.dropna(subset=['RelatedGenes'])\n",
    "\n",
    "# Calculate the number of diseases with related genes\n",
    "diseases_with_related_genes = len(related_genes_data)\n",
    "\n",
    "# Calculate the probabilities\n",
    "probability_associated_genes = diseases_with_associated_genes / total_diseases\n",
    "probability_related_genes = diseases_with_related_genes / total_diseases\n",
    "\n",
    "# Print the probabilities\n",
    "print(\"Probability of getting a disease with associated genes:\", probability_associated_genes)\n",
    "print(\"Probability of getting a disease with related genes:\", probability_related_genes)"
   ]
  },
  {
   "cell_type": "markdown",
   "id": "3eb414ed",
   "metadata": {},
   "source": [
    "Figuring out the most common disorder from the dataset and the genes associated with the disorder"
   ]
  },
  {
   "cell_type": "code",
   "execution_count": null,
   "id": "45a0d976",
   "metadata": {},
   "outputs": [],
   "source": [
    "# Get the most common disorders\n",
    "most_common_disorder = file['DiseaseName'].value_counts().idxmax()\n",
    "\n",
    "print(\"The most common disorder is:\", most_common_disorder)"
   ]
  },
  {
   "cell_type": "code",
   "execution_count": null,
   "id": "3872a749",
   "metadata": {
    "scrolled": true
   },
   "outputs": [],
   "source": [
    "# Filter the dataset for rows with 'Cardiomyopathy' in the 'DiseaseName' column\n",
    "filtered_data = file[file['DiseaseName'] == 'Cardiomyopathy']\n",
    "\n",
    "# Get the associated genes and related genes for Cardiomyopathy\n",
    "associated_genes = filtered_data['AssociatedGenes'].dropna().unique().tolist()\n",
    "related_genes = filtered_data['RelatedGenes'].dropna().unique().tolist()\n",
    "\n",
    "# Print the associated genes and related genes for Cardiomyopathy\n",
    "print(\"Associated Genes for Cardiomyopathy:\")\n",
    "for gene in associated_genes:\n",
    "    print(gene)\n",
    "\n",
    "print(\"\\nRelated Genes for Cardiomyopathy:\")\n",
    "for gene in related_genes:\n",
    "    print(gene)"
   ]
  },
  {
   "cell_type": "markdown",
   "id": "06dae92a",
   "metadata": {},
   "source": [
    "Finding out the top 5 gene IDs causing the maximum number of diseases and plotting them "
   ]
  },
  {
   "cell_type": "code",
   "execution_count": null,
   "id": "5b6ca5d2",
   "metadata": {
    "scrolled": false
   },
   "outputs": [],
   "source": [
    "# Group the data by Gene ID and count the number of unique disease names\n",
    "gene_counts = file.groupby('GeneID')['DiseaseName'].nunique()\n",
    "\n",
    "# Sort the gene counts in descending order and get the top 5 gene IDs\n",
    "top_5_gene_ids = gene_counts.sort_values(ascending=False).head(5)\n",
    "\n",
    "# Print the top 5 gene IDs causing the maximum number of diseases\n",
    "print(\"Top 5 gene IDs causing the maximum number of diseases:\")\n",
    "for gene_id, count in top_5_gene_ids.items():\n",
    "    print(\"Gene ID:\", gene_id, \" | Number of Diseases:\", count)"
   ]
  },
  {
   "cell_type": "code",
   "execution_count": null,
   "id": "b830c6a9",
   "metadata": {},
   "outputs": [],
   "source": [
    "import seaborn as sns"
   ]
  },
  {
   "cell_type": "code",
   "execution_count": null,
   "id": "309ba415",
   "metadata": {
    "scrolled": true
   },
   "outputs": [],
   "source": [
    "# Convert to a  DataFrame for plotting\n",
    "df = pd.DataFrame({'Gene ID': top_5_gene_ids.index, 'Number of Diseases': top_5_gene_ids.values})\n",
    "\n",
    "# Create a bar plot using Seaborn\n",
    "plt.figure(figsize=(10, 6))\n",
    "sns.barplot(x='Gene ID', y='Number of Diseases', data=df, color='orange')\n",
    "\n",
    "# Set the plot labels and title\n",
    "plt.xlabel('Gene ID')\n",
    "plt.ylabel('Number of Diseases')\n",
    "plt.title('Top 5 Gene IDs Causing the Maximum Number of Diseases')\n",
    "\n",
    "# Show the plot\n",
    "plt.tight_layout()\n",
    "plt.show()\n",
    "\n",
    "\n"
   ]
  },
  {
   "cell_type": "markdown",
   "id": "dee6dd21",
   "metadata": {},
   "source": [
    "Finding out the Gene IDs and names of the diseases and disorders associated with the top 5 disease"
   ]
  },
  {
   "cell_type": "code",
   "execution_count": null,
   "id": "d78ff220",
   "metadata": {},
   "outputs": [],
   "source": [
    "# 1.Get the unique gene IDs\n",
    "unique_gene_ids = file['GeneID'].unique()\n",
    "\n",
    "# Print the unique gene IDs\n",
    "print(\"Unique Gene IDs:\")\n",
    "for gene_id in unique_gene_ids:\n",
    "    print(gene_id)"
   ]
  },
  {
   "cell_type": "code",
   "execution_count": null,
   "id": "5fe517bc",
   "metadata": {},
   "outputs": [],
   "source": []
  },
  {
   "cell_type": "code",
   "execution_count": null,
   "id": "10cb4c2c",
   "metadata": {},
   "outputs": [],
   "source": [
    "# Calculate the number of unique gene IDs\n",
    "num_unique_ids = len(unique_gene_ids)\n",
    "\n",
    "# Print the number of unique gene IDs\n",
    "print(\"Number of Unique Gene IDs:\", num_unique_ids)"
   ]
  },
  {
   "cell_type": "code",
   "execution_count": null,
   "id": "80ac88f6",
   "metadata": {
    "scrolled": true
   },
   "outputs": [],
   "source": [
    "# 2.Get the top 5 most common disease names\n",
    "top_5_diseases = file['DiseaseName'].value_counts().head(5).index.tolist()\n",
    "\n",
    "# 3.Filter the dataset for the top 5 disease names\n",
    "filtered_data = file[file['DiseaseName'].isin(top_5_diseases)]\n",
    "\n",
    "# 4.Get the gene IDs for the top 5 disease names\n",
    "gene_ids = filtered_data['GeneID'].unique()\n",
    "\n",
    "# Print the gene IDs for the top 5 disease names\n",
    "print(\"Gene IDs associated with the top 5 disease names:\")\n",
    "for gene_id in gene_ids:\n",
    "    print(gene_id)"
   ]
  },
  {
   "cell_type": "code",
   "execution_count": null,
   "id": "272d361f",
   "metadata": {
    "scrolled": true
   },
   "outputs": [],
   "source": [
    "top_5_diseases = file['DiseaseName'].value_counts().head(5).index.tolist()\n",
    "\n",
    "# 5.Filter the dataset for the top 5 disease names\n",
    "filtered_data = file[file['DiseaseName'].isin(top_5_diseases)]\n",
    "\n",
    "# 6.Create a list of tuples containing gene IDs and their associated disease names\n",
    "gene_disease_list = [(row['GeneID'], row['DiseaseName']) for _, row in filtered_data.iterrows()]\n",
    "\n",
    "# Print the gene IDs and their associated disease names\n",
    "print(\"Gene IDs and Associated Disease Names for the top 5 disease names:\")\n",
    "for gene_id, disease_name in gene_disease_list:\n",
    "    print(\"Gene ID:\", gene_id, \"| Disease Name:\", disease_name)"
   ]
  },
  {
   "cell_type": "markdown",
   "id": "a889feab",
   "metadata": {},
   "source": [
    "Finding out if the most frequently occuring disorder is on associated or related gene, which will help to figureout if or not it will be an acquired condition"
   ]
  },
  {
   "cell_type": "code",
   "execution_count": null,
   "id": "573fd9e5",
   "metadata": {},
   "outputs": [],
   "source": [
    "# Filter the dataset for rows with 'Cardiomyopathy' in the 'DiseaseName' column\n",
    "cardiomyopathy_data = file[file['DiseaseName'] == 'Cardiomyopathy']\n",
    "\n",
    "# Count the number of associated genes and related genes for cardiomyopathy\n",
    "num_associated_genes = cardiomyopathy_data['AssociatedGenes'].notnull().sum()\n",
    "num_related_genes = cardiomyopathy_data['RelatedGenes'].notnull().sum()\n",
    "\n",
    "# Print the number of associated genes and related genes for cardiomyopathy\n",
    "print(\"Number of associated genes for Cardiomyopathy:\", num_associated_genes)\n",
    "print(\"Number of related genes for Cardiomyopathy:\", num_related_genes)\n"
   ]
  },
  {
   "cell_type": "code",
   "execution_count": null,
   "id": "a8b21333",
   "metadata": {},
   "outputs": [],
   "source": []
  }
 ],
 "metadata": {
  "kernelspec": {
   "display_name": "Python 3 (ipykernel)",
   "language": "python",
   "name": "python3"
  },
  "language_info": {
   "codemirror_mode": {
    "name": "ipython",
    "version": 3
   },
   "file_extension": ".py",
   "mimetype": "text/x-python",
   "name": "python",
   "nbconvert_exporter": "python",
   "pygments_lexer": "ipython3",
   "version": "3.11.3"
  }
 },
 "nbformat": 4,
 "nbformat_minor": 5
}
