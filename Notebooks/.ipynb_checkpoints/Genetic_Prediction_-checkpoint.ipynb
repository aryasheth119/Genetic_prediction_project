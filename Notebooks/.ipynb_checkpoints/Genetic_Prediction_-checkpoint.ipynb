{
 "cells": [
  {
   "cell_type": "code",
   "execution_count": 1,
   "id": "ac4b1ffb",
   "metadata": {},
   "outputs": [],
   "source": [
    "import pandas as pd\n",
    "import numpy as np\n",
    "import seaborn as sns\n",
    "import matplotlib.pyplot as plt\n"
   ]
  },
  {
   "cell_type": "markdown",
   "id": "2ddd4080",
   "metadata": {},
   "source": [
    "The file was downloaded from National Institute of Health, ClinVar, which is a freely accessible, public archive of reports of the relationships among human variations and phenotypes, with supporting evidence. ClinVar facilitates access to and communication about the relationships asserted between human variation and observed health status, and the history of that interpretation. "
   ]
  },
  {
   "cell_type": "code",
   "execution_count": 2,
   "id": "7411dfb7",
   "metadata": {},
   "outputs": [],
   "source": [
    "file = pd.read_csv('gene_condition_source_id.csv')"
   ]
  },
  {
   "cell_type": "code",
   "execution_count": 3,
   "id": "cca34f43",
   "metadata": {
    "scrolled": true
   },
   "outputs": [
    {
     "data": {
      "text/html": [
       "<div>\n",
       "<style scoped>\n",
       "    .dataframe tbody tr th:only-of-type {\n",
       "        vertical-align: middle;\n",
       "    }\n",
       "\n",
       "    .dataframe tbody tr th {\n",
       "        vertical-align: top;\n",
       "    }\n",
       "\n",
       "    .dataframe thead th {\n",
       "        text-align: right;\n",
       "    }\n",
       "</style>\n",
       "<table border=\"1\" class=\"dataframe\">\n",
       "  <thead>\n",
       "    <tr style=\"text-align: right;\">\n",
       "      <th></th>\n",
       "      <th>GeneID</th>\n",
       "      <th>AssociatedGenes</th>\n",
       "      <th>RelatedGenes</th>\n",
       "      <th>ConceptID</th>\n",
       "      <th>DiseaseName</th>\n",
       "      <th>SourceName</th>\n",
       "      <th>SourceID</th>\n",
       "      <th>DiseaseMIM</th>\n",
       "      <th>LastUpdated</th>\n",
       "    </tr>\n",
       "  </thead>\n",
       "  <tbody>\n",
       "    <tr>\n",
       "      <th>0</th>\n",
       "      <td>144568</td>\n",
       "      <td>A2ML1</td>\n",
       "      <td>NaN</td>\n",
       "      <td>C1833692</td>\n",
       "      <td>Otitis media: susceptibility to</td>\n",
       "      <td>MONDO</td>\n",
       "      <td>MONDO:0008162</td>\n",
       "      <td>166760.0</td>\n",
       "      <td>Feb 16 2016</td>\n",
       "    </tr>\n",
       "    <tr>\n",
       "      <th>1</th>\n",
       "      <td>53947</td>\n",
       "      <td>A4GALT</td>\n",
       "      <td>NaN</td>\n",
       "      <td>C3549485</td>\n",
       "      <td>Blood group: P1PK system</td>\n",
       "      <td>NCBI curation</td>\n",
       "      <td>NaN</td>\n",
       "      <td>111400.0</td>\n",
       "      <td>Mar 10 2022</td>\n",
       "    </tr>\n",
       "    <tr>\n",
       "      <th>2</th>\n",
       "      <td>8086</td>\n",
       "      <td>AAAS</td>\n",
       "      <td>NaN</td>\n",
       "      <td>C0271742</td>\n",
       "      <td>Glucocorticoid deficiency with achalasia</td>\n",
       "      <td>NCBI curation</td>\n",
       "      <td>NaN</td>\n",
       "      <td>231550.0</td>\n",
       "      <td>Feb 16 2016</td>\n",
       "    </tr>\n",
       "    <tr>\n",
       "      <th>3</th>\n",
       "      <td>79719</td>\n",
       "      <td>AAGAB</td>\n",
       "      <td>NaN</td>\n",
       "      <td>CN031225</td>\n",
       "      <td>Palmoplantar keratoderma: punctate type 1A</td>\n",
       "      <td>MONDO</td>\n",
       "      <td>MONDO:0007858</td>\n",
       "      <td>148600.0</td>\n",
       "      <td>May 21 2021</td>\n",
       "    </tr>\n",
       "    <tr>\n",
       "      <th>4</th>\n",
       "      <td>16</td>\n",
       "      <td>AARS1</td>\n",
       "      <td>NaN</td>\n",
       "      <td>C2750090</td>\n",
       "      <td>Charcot-Marie-Tooth disease axonal type 2N</td>\n",
       "      <td>MONDO</td>\n",
       "      <td>MONDO:0013212</td>\n",
       "      <td>613287.0</td>\n",
       "      <td>Jan 21 2022</td>\n",
       "    </tr>\n",
       "    <tr>\n",
       "      <th>...</th>\n",
       "      <td>...</td>\n",
       "      <td>...</td>\n",
       "      <td>...</td>\n",
       "      <td>...</td>\n",
       "      <td>...</td>\n",
       "      <td>...</td>\n",
       "      <td>...</td>\n",
       "      <td>...</td>\n",
       "      <td>...</td>\n",
       "    </tr>\n",
       "    <tr>\n",
       "      <th>12305</th>\n",
       "      <td>130557</td>\n",
       "      <td>NaN</td>\n",
       "      <td>ZNF513</td>\n",
       "      <td>C0035334</td>\n",
       "      <td>Retinitis pigmentosa</td>\n",
       "      <td>OMIM phenotypic series</td>\n",
       "      <td>PS268000</td>\n",
       "      <td>268000.0</td>\n",
       "      <td>16. Feb 16</td>\n",
       "    </tr>\n",
       "    <tr>\n",
       "      <th>12306</th>\n",
       "      <td>130557</td>\n",
       "      <td>NaN</td>\n",
       "      <td>ZNF513</td>\n",
       "      <td>C0035334</td>\n",
       "      <td>Retinitis pigmentosa</td>\n",
       "      <td>MONDO</td>\n",
       "      <td>MONDO:0019200</td>\n",
       "      <td>268000.0</td>\n",
       "      <td>16. Feb 16</td>\n",
       "    </tr>\n",
       "    <tr>\n",
       "      <th>12307</th>\n",
       "      <td>22917</td>\n",
       "      <td>NaN</td>\n",
       "      <td>ZP1</td>\n",
       "      <td>CN238505</td>\n",
       "      <td>Inherited oocyte maturation defect</td>\n",
       "      <td>MONDO</td>\n",
       "      <td>MONDO:0014769</td>\n",
       "      <td>NaN</td>\n",
       "      <td>19. Apr 22</td>\n",
       "    </tr>\n",
       "    <tr>\n",
       "      <th>12308</th>\n",
       "      <td>7783</td>\n",
       "      <td>NaN</td>\n",
       "      <td>ZP2</td>\n",
       "      <td>CN238505</td>\n",
       "      <td>Inherited oocyte maturation defect</td>\n",
       "      <td>MONDO</td>\n",
       "      <td>MONDO:0014769</td>\n",
       "      <td>NaN</td>\n",
       "      <td>19. Apr 22</td>\n",
       "    </tr>\n",
       "    <tr>\n",
       "      <th>12309</th>\n",
       "      <td>7784</td>\n",
       "      <td>NaN</td>\n",
       "      <td>ZP3</td>\n",
       "      <td>CN238505</td>\n",
       "      <td>Inherited oocyte maturation defect</td>\n",
       "      <td>MONDO</td>\n",
       "      <td>MONDO:0014769</td>\n",
       "      <td>NaN</td>\n",
       "      <td>19. Apr 22</td>\n",
       "    </tr>\n",
       "  </tbody>\n",
       "</table>\n",
       "<p>12310 rows × 9 columns</p>\n",
       "</div>"
      ],
      "text/plain": [
       "       GeneID AssociatedGenes RelatedGenes ConceptID  \\\n",
       "0      144568           A2ML1          NaN  C1833692   \n",
       "1       53947          A4GALT          NaN  C3549485   \n",
       "2        8086            AAAS          NaN  C0271742   \n",
       "3       79719           AAGAB          NaN  CN031225   \n",
       "4          16           AARS1          NaN  C2750090   \n",
       "...       ...             ...          ...       ...   \n",
       "12305  130557             NaN       ZNF513  C0035334   \n",
       "12306  130557             NaN       ZNF513  C0035334   \n",
       "12307   22917             NaN          ZP1  CN238505   \n",
       "12308    7783             NaN          ZP2  CN238505   \n",
       "12309    7784             NaN          ZP3  CN238505   \n",
       "\n",
       "                                      DiseaseName              SourceName  \\\n",
       "0                 Otitis media: susceptibility to                   MONDO   \n",
       "1                        Blood group: P1PK system           NCBI curation   \n",
       "2        Glucocorticoid deficiency with achalasia           NCBI curation   \n",
       "3      Palmoplantar keratoderma: punctate type 1A                   MONDO   \n",
       "4      Charcot-Marie-Tooth disease axonal type 2N                   MONDO   \n",
       "...                                           ...                     ...   \n",
       "12305                        Retinitis pigmentosa  OMIM phenotypic series   \n",
       "12306                        Retinitis pigmentosa                   MONDO   \n",
       "12307          Inherited oocyte maturation defect                   MONDO   \n",
       "12308          Inherited oocyte maturation defect                   MONDO   \n",
       "12309          Inherited oocyte maturation defect                   MONDO   \n",
       "\n",
       "            SourceID  DiseaseMIM  LastUpdated  \n",
       "0      MONDO:0008162    166760.0  Feb 16 2016  \n",
       "1                NaN    111400.0  Mar 10 2022  \n",
       "2                NaN    231550.0  Feb 16 2016  \n",
       "3      MONDO:0007858    148600.0  May 21 2021  \n",
       "4      MONDO:0013212    613287.0  Jan 21 2022  \n",
       "...              ...         ...          ...  \n",
       "12305       PS268000    268000.0   16. Feb 16  \n",
       "12306  MONDO:0019200    268000.0   16. Feb 16  \n",
       "12307  MONDO:0014769         NaN   19. Apr 22  \n",
       "12308  MONDO:0014769         NaN   19. Apr 22  \n",
       "12309  MONDO:0014769         NaN   19. Apr 22  \n",
       "\n",
       "[12310 rows x 9 columns]"
      ]
     },
     "execution_count": 3,
     "metadata": {},
     "output_type": "execute_result"
    }
   ],
   "source": [
    "file\n"
   ]
  },
  {
   "cell_type": "markdown",
   "id": "93633d75",
   "metadata": {},
   "source": [
    "Figuring out the most common disorder from the dataset "
   ]
  },
  {
   "cell_type": "code",
   "execution_count": 4,
   "id": "bae78237",
   "metadata": {},
   "outputs": [
    {
     "name": "stdout",
     "output_type": "stream",
     "text": [
      "The most common disorder is: Cardiomyopathy\n"
     ]
    }
   ],
   "source": [
    "# Get the most common disorders\n",
    "most_common_disorder = file['DiseaseName'].value_counts().idxmax()\n",
    "\n",
    "print(\"The most common disorder is:\", most_common_disorder)\n"
   ]
  },
  {
   "cell_type": "markdown",
   "id": "f0774032",
   "metadata": {},
   "source": [
    "Figuring out the top 5 most common disease names from the dataset and plotting a graph"
   ]
  },
  {
   "cell_type": "code",
   "execution_count": 5,
   "id": "a12226fa",
   "metadata": {
    "scrolled": false
   },
   "outputs": [
    {
     "name": "stdout",
     "output_type": "stream",
     "text": [
      "Top 5 most common disease names:\n",
      "Cardiomyopathy                          190\n",
      "Hereditary hearing loss and deafness    177\n",
      "Retinitis pigmentosa                    148\n",
      "Charcot-Marie-Tooth disease             106\n",
      "Mitochondrial disease                    98\n",
      "Name: DiseaseName, dtype: int64\n"
     ]
    }
   ],
   "source": [
    "# Get the top 5 most common disease names\n",
    "top_5_diseases = file['DiseaseName'].value_counts().head(5)\n",
    "\n",
    "print(\"Top 5 most common disease names:\")\n",
    "print(top_5_diseases)"
   ]
  },
  {
   "cell_type": "code",
   "execution_count": 7,
   "id": "035d25e0",
   "metadata": {
    "scrolled": true
   },
   "outputs": [
    {
     "data": {
      "image/png": "[encoded data removed]",
      "text/plain": [
       "<Figure size 1000x600 with 1 Axes>"
      ]
     },
     "metadata": {},
     "output_type": "display_data"
    }
   ],
   "source": [
    "# Get the top 5 most common disease names\n",
    "top_5_diseases = file['DiseaseName'].value_counts().head(5)\n",
    "\n",
    "# Convert the result to a DataFrame to make plotting easier\n",
    "top_5_df = top_5_diseases.reset_index()\n",
    "top_5_df.columns = ['DiseaseName', 'Count']\n",
    "\n",
    "# Plotting using Seaborn\n",
    "sns.set(style=\"whitegrid\")\n",
    "plt.figure(figsize=(10, 6))\n",
    "ax = sns.barplot(y='Count', x='DiseaseName', data=top_5_df, palette='viridis')\n",
    "\n",
    "# Customize the plot\n",
    "plt.ylabel(\"Count\")\n",
    "plt.xlabel(\"Disease Name\")\n",
    "plt.title(\"Top 5 Most Common Disease Names\")\n",
    "plt.tight_layout()\n",
    "\n",
    "# Show the plot\n",
    "plt.show()"
   ]
  },
  {
   "cell_type": "markdown",
   "id": "c5bbbc55",
   "metadata": {},
   "source": [
    "Sorting out the data and filtering only the required columns"
   ]
  },
  {
   "cell_type": "code",
   "execution_count": 24,
   "id": "a637acd3",
   "metadata": {
    "scrolled": true
   },
   "outputs": [
    {
     "name": "stdout",
     "output_type": "stream",
     "text": [
      "Gene ID, Associated Genes, Related Genes and DiseaseName for the top 5 most common disease names:\n"
     ]
    },
    {
     "data": {
      "text/html": [
       "<div>\n",
       "<style scoped>\n",
       "    .dataframe tbody tr th:only-of-type {\n",
       "        vertical-align: middle;\n",
       "    }\n",
       "\n",
       "    .dataframe tbody tr th {\n",
       "        vertical-align: top;\n",
       "    }\n",
       "\n",
       "    .dataframe thead th {\n",
       "        text-align: right;\n",
       "    }\n",
       "</style>\n",
       "<table border=\"1\" class=\"dataframe\">\n",
       "  <thead>\n",
       "    <tr style=\"text-align: right;\">\n",
       "      <th></th>\n",
       "      <th>GeneID</th>\n",
       "      <th>AssociatedGenes</th>\n",
       "      <th>RelatedGenes</th>\n",
       "      <th>DiseaseName</th>\n",
       "    </tr>\n",
       "  </thead>\n",
       "  <tbody>\n",
       "    <tr>\n",
       "      <th>241</th>\n",
       "      <td>23746</td>\n",
       "      <td>AIPL1</td>\n",
       "      <td>NaN</td>\n",
       "      <td>Retinitis pigmentosa</td>\n",
       "    </tr>\n",
       "    <tr>\n",
       "      <th>242</th>\n",
       "      <td>23746</td>\n",
       "      <td>AIPL1</td>\n",
       "      <td>NaN</td>\n",
       "      <td>Retinitis pigmentosa</td>\n",
       "    </tr>\n",
       "    <tr>\n",
       "      <th>471</th>\n",
       "      <td>84100</td>\n",
       "      <td>6.00¬†ARL</td>\n",
       "      <td>NaN</td>\n",
       "      <td>Retinitis pigmentosa</td>\n",
       "    </tr>\n",
       "    <tr>\n",
       "      <th>472</th>\n",
       "      <td>84100</td>\n",
       "      <td>6.00¬†ARL</td>\n",
       "      <td>NaN</td>\n",
       "      <td>Retinitis pigmentosa</td>\n",
       "    </tr>\n",
       "    <tr>\n",
       "      <th>1165</th>\n",
       "      <td>157657</td>\n",
       "      <td>CFAP418</td>\n",
       "      <td>NaN</td>\n",
       "      <td>Retinitis pigmentosa</td>\n",
       "    </tr>\n",
       "    <tr>\n",
       "      <th>...</th>\n",
       "      <td>...</td>\n",
       "      <td>...</td>\n",
       "      <td>...</td>\n",
       "      <td>...</td>\n",
       "    </tr>\n",
       "    <tr>\n",
       "      <th>12253</th>\n",
       "      <td>25861</td>\n",
       "      <td>NaN</td>\n",
       "      <td>WHRN</td>\n",
       "      <td>Hereditary hearing loss and deafness</td>\n",
       "    </tr>\n",
       "    <tr>\n",
       "      <th>12284</th>\n",
       "      <td>8565</td>\n",
       "      <td>NaN</td>\n",
       "      <td>YARS1</td>\n",
       "      <td>Charcot-Marie-Tooth disease</td>\n",
       "    </tr>\n",
       "    <tr>\n",
       "      <th>12285</th>\n",
       "      <td>8565</td>\n",
       "      <td>NaN</td>\n",
       "      <td>YARS1</td>\n",
       "      <td>Charcot-Marie-Tooth disease</td>\n",
       "    </tr>\n",
       "    <tr>\n",
       "      <th>12305</th>\n",
       "      <td>130557</td>\n",
       "      <td>NaN</td>\n",
       "      <td>ZNF513</td>\n",
       "      <td>Retinitis pigmentosa</td>\n",
       "    </tr>\n",
       "    <tr>\n",
       "      <th>12306</th>\n",
       "      <td>130557</td>\n",
       "      <td>NaN</td>\n",
       "      <td>ZNF513</td>\n",
       "      <td>Retinitis pigmentosa</td>\n",
       "    </tr>\n",
       "  </tbody>\n",
       "</table>\n",
       "<p>719 rows × 4 columns</p>\n",
       "</div>"
      ],
      "text/plain": [
       "       GeneID AssociatedGenes RelatedGenes  \\\n",
       "241     23746           AIPL1          NaN   \n",
       "242     23746           AIPL1          NaN   \n",
       "471     84100       6.00¬†ARL          NaN   \n",
       "472     84100       6.00¬†ARL          NaN   \n",
       "1165   157657         CFAP418          NaN   \n",
       "...       ...             ...          ...   \n",
       "12253   25861             NaN         WHRN   \n",
       "12284    8565             NaN        YARS1   \n",
       "12285    8565             NaN        YARS1   \n",
       "12305  130557             NaN       ZNF513   \n",
       "12306  130557             NaN       ZNF513   \n",
       "\n",
       "                                DiseaseName  \n",
       "241                    Retinitis pigmentosa  \n",
       "242                    Retinitis pigmentosa  \n",
       "471                    Retinitis pigmentosa  \n",
       "472                    Retinitis pigmentosa  \n",
       "1165                   Retinitis pigmentosa  \n",
       "...                                     ...  \n",
       "12253  Hereditary hearing loss and deafness  \n",
       "12284           Charcot-Marie-Tooth disease  \n",
       "12285           Charcot-Marie-Tooth disease  \n",
       "12305                  Retinitis pigmentosa  \n",
       "12306                  Retinitis pigmentosa  \n",
       "\n",
       "[719 rows x 4 columns]"
      ]
     },
     "metadata": {},
     "output_type": "display_data"
    }
   ],
   "source": [
    "top_5_diseases = file['DiseaseName'].value_counts().head(5).index.tolist()\n",
    "\n",
    "#Filtering the data\n",
    "filtered_data = file[file['DiseaseName'].isin(top_5_diseases)]\n",
    "\n",
    "# Selecting the necessary columns\n",
    "selected_columns = ['GeneID', 'AssociatedGenes', 'RelatedGenes', 'DiseaseName']\n",
    "result = filtered_data[selected_columns]\n",
    "\n",
    "#printing the results\n",
    "print(\"Gene ID, Associated Genes, Related Genes and DiseaseName for the top 5 most common disease names:\")\n",
    "display(result)"
   ]
  },
  {
   "cell_type": "markdown",
   "id": "1971792a",
   "metadata": {},
   "source": [
    "Finding out all the total number and names of the diseases caused by gene ID 1208, which is the gene causing most disorders"
   ]
  },
  {
   "cell_type": "code",
   "execution_count": 8,
   "id": "b6ceb009",
   "metadata": {},
   "outputs": [],
   "source": [
    "# Group the data by Gene ID and count the number of unique disease names\n",
    "gene_counts = file.groupby('GeneID')['DiseaseName'].nunique()"
   ]
  },
  {
   "cell_type": "code",
   "execution_count": 9,
   "id": "42fd2d0c",
   "metadata": {},
   "outputs": [],
   "source": [
    "gene_counts = file.groupby('GeneID')['DiseaseName'].nunique()"
   ]
  },
  {
   "cell_type": "code",
   "execution_count": 10,
   "id": "8c2d1563",
   "metadata": {},
   "outputs": [],
   "source": [
    "# Find the Gene ID with the maximum count of unique disease names\n",
    "max_gene_id = gene_counts.idxmax()"
   ]
  },
  {
   "cell_type": "code",
   "execution_count": 21,
   "id": "79fe6e6c",
   "metadata": {},
   "outputs": [
    {
     "name": "stdout",
     "output_type": "stream",
     "text": [
      "Disease names associated with the gene ID 1280\n",
      "Stickler syndrome type 1\n",
      "Spondyloepiphyseal dysplasia: Stanescu type\n",
      "Spondyloepimetaphyseal dysplasia: Strudwick type\n",
      "Platyspondylic dysplasia: Torrance type\n",
      "Stickler syndrome: type I: nonsyndromic ocular\n",
      "Czech dysplasia: metatarsal type\n",
      "Namaqualand hip dysplasia\n",
      "Avascular necrosis of femoral head: primary: 1\n",
      "Vitreoretinopathy with phalangeal epiphyseal dysplasia\n",
      "Legg-Calve-Perthes disease\n",
      "Spondylometaphyseal dysplasia - Sutcliffe type\n",
      "Multiple epiphyseal dysplasia: Beighton type\n",
      "Spondyloepiphyseal dysplasia congenita\n",
      "Spondyloperipheral dysplasia\n",
      "Kniest dysplasia\n",
      "Achondrogenesis type II\n",
      "Stickler syndrome\n",
      "Avascular necrosis of the head of femur\n",
      "Spondylometaphyseal dysplasia\n",
      "Type II Collagenopathies\n",
      "Familial avascular necrosis of the femoral head\n",
      "Hereditary hearing loss and deafness\n"
     ]
    }
   ],
   "source": [
    "# Filter the dataset for the disease names associated with the maximum gene ID\n",
    "filtered_data = file[file['GeneID'] == max_gene_id]\n",
    "disease_names = filtered_data['DiseaseName'].unique()\n",
    "\n",
    "print(\"Disease names associated with the gene ID\", max_gene_id)\n",
    "for disease_name in disease_names:\n",
    "    print(disease_name)"
   ]
  },
  {
   "cell_type": "code",
   "execution_count": 22,
   "id": "50df46c9",
   "metadata": {},
   "outputs": [
    {
     "name": "stdout",
     "output_type": "stream",
     "text": [
      "Number of disease names associated with the gene ID 1280 : 22\n",
      "Disease names associated with the gene ID 1280 :\n",
      "Stickler syndrome type 1\n",
      "Spondyloepiphyseal dysplasia: Stanescu type\n",
      "Spondyloepimetaphyseal dysplasia: Strudwick type\n",
      "Platyspondylic dysplasia: Torrance type\n",
      "Stickler syndrome: type I: nonsyndromic ocular\n",
      "Czech dysplasia: metatarsal type\n",
      "Namaqualand hip dysplasia\n",
      "Avascular necrosis of femoral head: primary: 1\n",
      "Vitreoretinopathy with phalangeal epiphyseal dysplasia\n",
      "Legg-Calve-Perthes disease\n",
      "Spondylometaphyseal dysplasia - Sutcliffe type\n",
      "Multiple epiphyseal dysplasia: Beighton type\n",
      "Spondyloepiphyseal dysplasia congenita\n",
      "Spondyloperipheral dysplasia\n",
      "Kniest dysplasia\n",
      "Achondrogenesis type II\n",
      "Stickler syndrome\n",
      "Avascular necrosis of the head of femur\n",
      "Spondylometaphyseal dysplasia\n",
      "Type II Collagenopathies\n",
      "Familial avascular necrosis of the femoral head\n",
      "Hereditary hearing loss and deafness\n"
     ]
    }
   ],
   "source": [
    "# Get the number of disease names\n",
    "num_disease_names = len(disease_names)\n",
    "\n",
    "print(\"Number of disease names associated with the gene ID\", max_gene_id, \":\", num_disease_names)\n",
    "print(\"Disease names associated with the gene ID\", max_gene_id, \":\")\n",
    "for disease_name in disease_names:\n",
    "    print(disease_name)"
   ]
  },
  {
   "cell_type": "code",
   "execution_count": null,
   "id": "7b69eefc",
   "metadata": {},
   "outputs": [],
   "source": []
  }
 ],
 "metadata": {
  "kernelspec": {
   "display_name": "aryasheth",
   "language": "python",
   "name": "genetic_prediction_env"
  },
  "language_info": {
   "codemirror_mode": {
    "name": "ipython",
    "version": 3
   },
   "file_extension": ".py",
   "mimetype": "text/x-python",
   "name": "python",
   "nbconvert_exporter": "python",
   "pygments_lexer": "ipython3",
   "version": "3.11.3"
  }
 },
 "nbformat": 4,
 "nbformat_minor": 5
}
